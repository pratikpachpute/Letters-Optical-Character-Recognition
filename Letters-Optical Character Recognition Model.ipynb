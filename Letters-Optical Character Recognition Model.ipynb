{
 "cells": [
  {
   "cell_type": "markdown",
   "id": "6f19efdf",
   "metadata": {},
   "source": [
    "## Letters: Optical Character Recognition Model"
   ]
  },
  {
   "cell_type": "markdown",
   "id": "fbe7987d",
   "metadata": {},
   "source": [
    "### Support Vector Machine Model (Linear kernel)"
   ]
  },
  {
   "cell_type": "code",
   "execution_count": 38,
   "id": "1c24fc35",
   "metadata": {},
   "outputs": [],
   "source": [
    "import pandas as pd"
   ]
  },
  {
   "cell_type": "code",
   "execution_count": 39,
   "id": "fcaa4a2e",
   "metadata": {},
   "outputs": [
    {
     "data": {
      "text/plain": [
       "'/Users/pratik'"
      ]
     },
     "execution_count": 39,
     "metadata": {},
     "output_type": "execute_result"
    }
   ],
   "source": [
    "pwd"
   ]
  },
  {
   "cell_type": "code",
   "execution_count": 40,
   "id": "c806a0d3",
   "metadata": {},
   "outputs": [],
   "source": [
    "input_file = \"/Users/pratik/Desktop/Harrisburg University programs/Courses/Late Fall Courses 2022/ANLY 530 Principles of Machine Learning/Assignments & PPT's/Assignment 2/letterdata.csv\""
   ]
  },
  {
   "cell_type": "code",
   "execution_count": 41,
   "id": "df0b2c6c",
   "metadata": {},
   "outputs": [],
   "source": [
    "letters = pd.read_csv(input_file)"
   ]
  },
  {
   "cell_type": "code",
   "execution_count": 42,
   "id": "3ef4b69f",
   "metadata": {},
   "outputs": [
    {
     "data": {
      "text/html": [
       "<div>\n",
       "<style scoped>\n",
       "    .dataframe tbody tr th:only-of-type {\n",
       "        vertical-align: middle;\n",
       "    }\n",
       "\n",
       "    .dataframe tbody tr th {\n",
       "        vertical-align: top;\n",
       "    }\n",
       "\n",
       "    .dataframe thead th {\n",
       "        text-align: right;\n",
       "    }\n",
       "</style>\n",
       "<table border=\"1\" class=\"dataframe\">\n",
       "  <thead>\n",
       "    <tr style=\"text-align: right;\">\n",
       "      <th></th>\n",
       "      <th>letter</th>\n",
       "      <th>xbox</th>\n",
       "      <th>ybox</th>\n",
       "      <th>width</th>\n",
       "      <th>height</th>\n",
       "      <th>onpix</th>\n",
       "      <th>xbar</th>\n",
       "      <th>ybar</th>\n",
       "      <th>x2bar</th>\n",
       "      <th>y2bar</th>\n",
       "      <th>xybar</th>\n",
       "      <th>x2ybar</th>\n",
       "      <th>xy2bar</th>\n",
       "      <th>xedge</th>\n",
       "      <th>xedgey</th>\n",
       "      <th>yedge</th>\n",
       "      <th>yedgex</th>\n",
       "    </tr>\n",
       "  </thead>\n",
       "  <tbody>\n",
       "    <tr>\n",
       "      <th>0</th>\n",
       "      <td>T</td>\n",
       "      <td>2</td>\n",
       "      <td>8</td>\n",
       "      <td>3</td>\n",
       "      <td>5</td>\n",
       "      <td>1</td>\n",
       "      <td>8</td>\n",
       "      <td>13</td>\n",
       "      <td>0</td>\n",
       "      <td>6</td>\n",
       "      <td>6</td>\n",
       "      <td>10</td>\n",
       "      <td>8</td>\n",
       "      <td>0</td>\n",
       "      <td>8</td>\n",
       "      <td>0</td>\n",
       "      <td>8</td>\n",
       "    </tr>\n",
       "    <tr>\n",
       "      <th>1</th>\n",
       "      <td>I</td>\n",
       "      <td>5</td>\n",
       "      <td>12</td>\n",
       "      <td>3</td>\n",
       "      <td>7</td>\n",
       "      <td>2</td>\n",
       "      <td>10</td>\n",
       "      <td>5</td>\n",
       "      <td>5</td>\n",
       "      <td>4</td>\n",
       "      <td>13</td>\n",
       "      <td>3</td>\n",
       "      <td>9</td>\n",
       "      <td>2</td>\n",
       "      <td>8</td>\n",
       "      <td>4</td>\n",
       "      <td>10</td>\n",
       "    </tr>\n",
       "    <tr>\n",
       "      <th>2</th>\n",
       "      <td>D</td>\n",
       "      <td>4</td>\n",
       "      <td>11</td>\n",
       "      <td>6</td>\n",
       "      <td>8</td>\n",
       "      <td>6</td>\n",
       "      <td>10</td>\n",
       "      <td>6</td>\n",
       "      <td>2</td>\n",
       "      <td>6</td>\n",
       "      <td>10</td>\n",
       "      <td>3</td>\n",
       "      <td>7</td>\n",
       "      <td>3</td>\n",
       "      <td>7</td>\n",
       "      <td>3</td>\n",
       "      <td>9</td>\n",
       "    </tr>\n",
       "    <tr>\n",
       "      <th>3</th>\n",
       "      <td>N</td>\n",
       "      <td>7</td>\n",
       "      <td>11</td>\n",
       "      <td>6</td>\n",
       "      <td>6</td>\n",
       "      <td>3</td>\n",
       "      <td>5</td>\n",
       "      <td>9</td>\n",
       "      <td>4</td>\n",
       "      <td>6</td>\n",
       "      <td>4</td>\n",
       "      <td>4</td>\n",
       "      <td>10</td>\n",
       "      <td>6</td>\n",
       "      <td>10</td>\n",
       "      <td>2</td>\n",
       "      <td>8</td>\n",
       "    </tr>\n",
       "    <tr>\n",
       "      <th>4</th>\n",
       "      <td>G</td>\n",
       "      <td>2</td>\n",
       "      <td>1</td>\n",
       "      <td>3</td>\n",
       "      <td>1</td>\n",
       "      <td>1</td>\n",
       "      <td>8</td>\n",
       "      <td>6</td>\n",
       "      <td>6</td>\n",
       "      <td>6</td>\n",
       "      <td>6</td>\n",
       "      <td>5</td>\n",
       "      <td>9</td>\n",
       "      <td>1</td>\n",
       "      <td>7</td>\n",
       "      <td>5</td>\n",
       "      <td>10</td>\n",
       "    </tr>\n",
       "  </tbody>\n",
       "</table>\n",
       "</div>"
      ],
      "text/plain": [
       "  letter  xbox  ybox  width  height  onpix  xbar  ybar  x2bar  y2bar  xybar  \\\n",
       "0      T     2     8      3       5      1     8    13      0      6      6   \n",
       "1      I     5    12      3       7      2    10     5      5      4     13   \n",
       "2      D     4    11      6       8      6    10     6      2      6     10   \n",
       "3      N     7    11      6       6      3     5     9      4      6      4   \n",
       "4      G     2     1      3       1      1     8     6      6      6      6   \n",
       "\n",
       "   x2ybar  xy2bar  xedge  xedgey  yedge  yedgex  \n",
       "0      10       8      0       8      0       8  \n",
       "1       3       9      2       8      4      10  \n",
       "2       3       7      3       7      3       9  \n",
       "3       4      10      6      10      2       8  \n",
       "4       5       9      1       7      5      10  "
      ]
     },
     "execution_count": 42,
     "metadata": {},
     "output_type": "execute_result"
    }
   ],
   "source": [
    "letters.head(5)"
   ]
  },
  {
   "cell_type": "code",
   "execution_count": 43,
   "id": "5abe221a",
   "metadata": {},
   "outputs": [],
   "source": [
    " target = letters[\"letter\"]"
   ]
  },
  {
   "cell_type": "markdown",
   "id": "3dfd14f6",
   "metadata": {},
   "source": [
    "Q3:\n",
    "\n",
    "The Target variable is letter"
   ]
  },
  {
   "cell_type": "markdown",
   "id": "93df2402",
   "metadata": {},
   "source": [
    "#### Train and Test Split, (convert y to numeric), import preprocessing from sklearn and LabelEncoder from preprocessing"
   ]
  },
  {
   "cell_type": "code",
   "execution_count": 44,
   "id": "9e20d0b9",
   "metadata": {},
   "outputs": [],
   "source": [
    "import numpy as np\n",
    "from sklearn.model_selection import train_test_split\n",
    "from sklearn import preprocessing\n",
    "from sklearn.preprocessing import LabelEncoder \n",
    "x = letters.drop(['letter'], axis = 1) ## Converting letters to digits\n",
    "numbers = LabelEncoder()\n",
    "y = numbers.fit_transform(letters['letter'].astype('str'))\n",
    "x_train, x_test, y_train, y_test = train_test_split(x,y, test_size = 0.10, random_state = 1234)"
   ]
  },
  {
   "cell_type": "code",
   "execution_count": 45,
   "id": "b0ff1040",
   "metadata": {},
   "outputs": [
    {
     "data": {
      "text/plain": [
       "array([ 3, 17, 18, ..., 10,  6,  6])"
      ]
     },
     "execution_count": 45,
     "metadata": {},
     "output_type": "execute_result"
    }
   ],
   "source": [
    "y_train"
   ]
  },
  {
   "cell_type": "code",
   "execution_count": 46,
   "id": "16544ed6",
   "metadata": {},
   "outputs": [
    {
     "data": {
      "text/plain": [
       "20    740\n",
       "3     729\n",
       "15    722\n",
       "16    717\n",
       "0     714\n",
       "19    714\n",
       "13    713\n",
       "23    705\n",
       "24    703\n",
       "12    701\n",
       "6     693\n",
       "11    691\n",
       "1     690\n",
       "4     690\n",
       "5     689\n",
       "17    686\n",
       "21    686\n",
       "8     682\n",
       "18    676\n",
       "22    673\n",
       "14    672\n",
       "9     671\n",
       "2     664\n",
       "7     663\n",
       "25    660\n",
       "10    656\n",
       "dtype: int64"
      ]
     },
     "execution_count": 46,
     "metadata": {},
     "output_type": "execute_result"
    }
   ],
   "source": [
    "pd.Series(y_train).value_counts()"
   ]
  },
  {
   "cell_type": "markdown",
   "id": "32eca1b4",
   "metadata": {},
   "source": [
    "#### Train the model"
   ]
  },
  {
   "cell_type": "markdown",
   "id": "21e5b02f",
   "metadata": {},
   "source": [
    "#### Use Linear separator to design the model"
   ]
  },
  {
   "cell_type": "code",
   "execution_count": 49,
   "id": "31d608c2",
   "metadata": {},
   "outputs": [],
   "source": [
    "from sklearn import svm"
   ]
  },
  {
   "cell_type": "markdown",
   "id": "126a174e",
   "metadata": {},
   "source": [
    "#### Designing the model"
   ]
  },
  {
   "cell_type": "code",
   "execution_count": 51,
   "id": "dd37fbb0",
   "metadata": {},
   "outputs": [],
   "source": [
    "clf = svm.SVC(kernel = \"linear\")"
   ]
  },
  {
   "cell_type": "code",
   "execution_count": 52,
   "id": "47de9f67",
   "metadata": {},
   "outputs": [
    {
     "data": {
      "text/plain": [
       "SVC(kernel='linear')"
      ]
     },
     "execution_count": 52,
     "metadata": {},
     "output_type": "execute_result"
    }
   ],
   "source": [
    "clf"
   ]
  },
  {
   "cell_type": "code",
   "execution_count": 53,
   "id": "dd4db81f",
   "metadata": {},
   "outputs": [
    {
     "data": {
      "text/plain": [
       "SVC(kernel='linear')"
      ]
     },
     "execution_count": 53,
     "metadata": {},
     "output_type": "execute_result"
    }
   ],
   "source": [
    "clf"
   ]
  },
  {
   "cell_type": "code",
   "execution_count": 54,
   "id": "b6132264",
   "metadata": {},
   "outputs": [
    {
     "data": {
      "text/plain": [
       "SVC(kernel='linear')"
      ]
     },
     "execution_count": 54,
     "metadata": {},
     "output_type": "execute_result"
    }
   ],
   "source": [
    "clf.fit(x_train, y_train)"
   ]
  },
  {
   "cell_type": "code",
   "execution_count": 55,
   "id": "f1a4f663",
   "metadata": {},
   "outputs": [],
   "source": [
    "y_predict = clf.predict(x_test)"
   ]
  },
  {
   "cell_type": "markdown",
   "id": "ce0b7fbd",
   "metadata": {},
   "source": [
    "#### Designing the Confusion Matrix"
   ]
  },
  {
   "cell_type": "code",
   "execution_count": 58,
   "id": "51731858",
   "metadata": {},
   "outputs": [
    {
     "data": {
      "text/plain": [
       "array([[71,  0,  0,  0,  0,  0,  0,  0,  0,  0,  1,  0,  0,  0,  0,  0,\n",
       "         0,  1,  0,  0,  0,  0,  0,  0,  2,  0],\n",
       "       [ 1, 67,  0,  1,  0,  0,  2,  1,  0,  0,  1,  0,  0,  0,  0,  0,\n",
       "         0,  2,  1,  0,  0,  0,  0,  0,  0,  0],\n",
       "       [ 0,  0, 67,  0,  2,  0,  1,  1,  0,  0,  0,  0,  0,  0,  1,  0,\n",
       "         0,  0,  0,  0,  0,  0,  0,  0,  0,  0],\n",
       "       [ 0,  5,  0, 67,  0,  0,  0,  1,  0,  1,  0,  0,  0,  0,  1,  0,\n",
       "         0,  0,  0,  0,  1,  0,  0,  0,  0,  0],\n",
       "       [ 0,  1,  1,  0, 58,  1,  3,  0,  1,  0,  1,  4,  0,  0,  0,  0,\n",
       "         2,  0,  1,  3,  0,  0,  0,  0,  0,  2],\n",
       "       [ 0,  1,  1,  0,  0, 74,  0,  0,  0,  1,  0,  0,  0,  2,  0,  1,\n",
       "         0,  0,  3,  2,  0,  0,  0,  0,  1,  0],\n",
       "       [ 0,  0,  4,  3,  1,  0, 61,  0,  0,  0,  1,  2,  0,  0,  0,  1,\n",
       "         2,  0,  4,  0,  0,  0,  1,  0,  0,  0],\n",
       "       [ 0,  1,  0,  0,  0,  2,  0, 52,  0,  1,  1,  1,  0,  0,  7,  0,\n",
       "         0,  3,  0,  0,  2,  0,  0,  1,  0,  0],\n",
       "       [ 0,  1,  0,  1,  0,  2,  0,  0, 67,  0,  0,  0,  0,  0,  0,  0,\n",
       "         0,  0,  0,  0,  0,  0,  0,  1,  0,  1],\n",
       "       [ 2,  0,  0,  0,  0,  1,  0,  0,  5, 67,  0,  0,  0,  0,  0,  0,\n",
       "         0,  0,  0,  0,  0,  0,  0,  0,  0,  1],\n",
       "       [ 0,  1,  2,  1,  0,  0,  3,  2,  0,  0, 68,  0,  0,  0,  0,  0,\n",
       "         0,  3,  0,  1,  0,  0,  0,  2,  0,  0],\n",
       "       [ 0,  0,  0,  0,  1,  0,  1,  1,  0,  0,  1, 63,  0,  0,  0,  0,\n",
       "         2,  0,  1,  0,  0,  0,  0,  0,  0,  0],\n",
       "       [ 0,  1,  0,  0,  0,  0,  0,  3,  0,  0,  0,  0, 83,  0,  1,  0,\n",
       "         0,  2,  0,  0,  1,  0,  0,  0,  0,  0],\n",
       "       [ 0,  0,  0,  0,  0,  0,  0,  1,  0,  0,  1,  0,  0, 65,  1,  0,\n",
       "         0,  1,  0,  0,  0,  1,  0,  0,  0,  0],\n",
       "       [ 1,  0,  1,  1,  0,  0,  0,  7,  0,  0,  0,  0,  1,  0, 66,  0,\n",
       "         1,  1,  0,  0,  1,  0,  1,  0,  0,  0],\n",
       "       [ 0,  0,  0,  0,  0,  9,  0,  0,  0,  0,  0,  0,  0,  0,  0, 69,\n",
       "         0,  0,  0,  0,  0,  0,  1,  0,  2,  0],\n",
       "       [ 3,  0,  0,  1,  0,  0,  1,  2,  0,  0,  1,  0,  0,  0,  3,  1,\n",
       "        49,  0,  4,  0,  0,  1,  0,  0,  0,  0],\n",
       "       [ 1,  3,  1,  1,  0,  0,  1,  1,  0,  0,  1,  0,  0,  0,  1,  0,\n",
       "         0, 62,  0,  0,  0,  0,  0,  0,  0,  0],\n",
       "       [ 0,  3,  0,  0,  2,  1,  2,  0,  1,  0,  0,  1,  0,  0,  0,  0,\n",
       "         4,  0, 51,  0,  0,  0,  0,  1,  0,  6],\n",
       "       [ 0,  0,  0,  0,  1,  0,  0,  0,  0,  0,  0,  0,  0,  0,  0,  1,\n",
       "         0,  0,  1, 76,  0,  0,  0,  0,  3,  0],\n",
       "       [ 0,  0,  0,  0,  0,  0,  0,  1,  0,  0,  0,  0,  1,  0,  1,  0,\n",
       "         0,  0,  0,  0, 70,  0,  0,  0,  0,  0],\n",
       "       [ 1,  1,  0,  0,  0,  0,  1,  1,  0,  0,  0,  0,  1,  0,  0,  0,\n",
       "         0,  0,  0,  0,  0, 69,  0,  0,  4,  0],\n",
       "       [ 0,  0,  0,  0,  0,  0,  1,  0,  0,  0,  0,  0,  4,  1,  1,  0,\n",
       "         0,  0,  0,  0,  3,  1, 68,  0,  0,  0],\n",
       "       [ 0,  0,  0,  0,  2,  0,  0,  0,  1,  1,  2,  2,  0,  0,  0,  0,\n",
       "         0,  0,  0,  0,  0,  0,  0, 73,  1,  0],\n",
       "       [ 1,  0,  0,  0,  0,  1,  0,  0,  0,  0,  0,  0,  0,  0,  0,  0,\n",
       "         0,  0,  0,  1,  0,  1,  0,  3, 76,  0],\n",
       "       [ 0,  0,  0,  0,  2,  0,  0,  0,  0,  3,  0,  0,  0,  0,  0,  0,\n",
       "         0,  0,  7,  0,  0,  0,  0,  0,  0, 62]])"
      ]
     },
     "execution_count": 58,
     "metadata": {},
     "output_type": "execute_result"
    }
   ],
   "source": [
    "from sklearn.metrics import confusion_matrix\n",
    "from sklearn.metrics import accuracy_score\n",
    "confusion_matrix(y_test, y_predict)"
   ]
  },
  {
   "cell_type": "code",
   "execution_count": 59,
   "id": "17426e8a",
   "metadata": {},
   "outputs": [
    {
     "data": {
      "text/plain": [
       "86.05000000000001"
      ]
     },
     "execution_count": 59,
     "metadata": {},
     "output_type": "execute_result"
    }
   ],
   "source": [
    "accuracy_score(y_test, y_predict)*100"
   ]
  },
  {
   "cell_type": "markdown",
   "id": "e8ab19c7",
   "metadata": {},
   "source": [
    "#### Improving the model by changing the kernels"
   ]
  },
  {
   "cell_type": "markdown",
   "id": "8fdd4883",
   "metadata": {},
   "source": [
    "#### Improving model 1"
   ]
  },
  {
   "cell_type": "code",
   "execution_count": 81,
   "id": "ea3cb75f",
   "metadata": {},
   "outputs": [
    {
     "data": {
      "text/plain": [
       "92.9"
      ]
     },
     "execution_count": 81,
     "metadata": {},
     "output_type": "execute_result"
    }
   ],
   "source": [
    "clf = svm.SVC(kernel='rbf', gamma =0.3) \n",
    "#clf = svm.LinearSVC(C=1)\n",
    "clf.fit(x_train, y_train) \n",
    "y_predict = clf.predict(x_test) \n",
    "accuracy_score(y_test, y_predict)*100 "
   ]
  },
  {
   "cell_type": "markdown",
   "id": "3ade632e",
   "metadata": {},
   "source": [
    "#### Improving model 2"
   ]
  },
  {
   "cell_type": "code",
   "execution_count": 83,
   "id": "f6e7589b",
   "metadata": {},
   "outputs": [
    {
     "data": {
      "text/plain": [
       "94.39999999999999"
      ]
     },
     "execution_count": 83,
     "metadata": {},
     "output_type": "execute_result"
    }
   ],
   "source": [
    "clf = svm.SVC(kernel='poly', degree=8) \n",
    "#clf = svm.LinearSVC(C=1) \n",
    "clf.fit(x_train, y_train) \n",
    "y_predict = clf.predict(x_test) \n",
    "accuracy_score(y_test, y_predict)*100 "
   ]
  },
  {
   "cell_type": "markdown",
   "id": "dfaa5e2f",
   "metadata": {},
   "source": [
    "### Conclusion:"
   ]
  },
  {
   "cell_type": "markdown",
   "id": "026a9de7",
   "metadata": {},
   "source": [
    "#### The Support Vector Machines using Linear Kernel identified the Letters with an accuracy of 86%, which increased to 92% on using the rbf kernel and further to 94% on using the polynomial kernel."
   ]
  },
  {
   "cell_type": "code",
   "execution_count": null,
   "id": "408ed7d1",
   "metadata": {},
   "outputs": [],
   "source": []
  }
 ],
 "metadata": {
  "kernelspec": {
   "display_name": "Python 3 (ipykernel)",
   "language": "python",
   "name": "python3"
  },
  "language_info": {
   "codemirror_mode": {
    "name": "ipython",
    "version": 3
   },
   "file_extension": ".py",
   "mimetype": "text/x-python",
   "name": "python",
   "nbconvert_exporter": "python",
   "pygments_lexer": "ipython3",
   "version": "3.9.13"
  }
 },
 "nbformat": 4,
 "nbformat_minor": 5
}
